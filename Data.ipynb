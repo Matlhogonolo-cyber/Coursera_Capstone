{
 "cells": [
  {
   "cell_type": "markdown",
   "metadata": {},
   "source": [
    "# Segmenting and exploring venues in Johannesburg neighborhoods"
   ]
  },
  {
   "cell_type": "markdown",
   "metadata": {},
   "source": [
    "## Data"
   ]
  },
  {
   "cell_type": "markdown",
   "metadata": {},
   "source": [
    "### Which data will be used?"
   ]
  },
  {
   "cell_type": "markdown",
   "metadata": {},
   "source": [
    "The data that I will be using will only be Foursquare location data. This will be sufficient and we'll therefore ignore other data sources for the purpose of our project.\n",
    "\n",
    "Based on our problem, we will need the below data:\n",
    "* number of existing restaurants in the neighborhood (any type of restaurant)\n",
    "* number of and distance to South African restaurants in the neighborhood, if any\n",
    "* distance of neighborhood from city center\n"
   ]
  },
  {
   "cell_type": "markdown",
   "metadata": {},
   "source": [
    "### How will we use the data to solve the problem at hand?"
   ]
  },
  {
   "cell_type": "markdown",
   "metadata": {},
   "source": [
    "We will be making calls to the Foursquare API for different purposes. We'll also construct URLs to send a request to the API to search for nearby restaurants, to explore the particular restaurants, to explore a Foursquare user and to get trending restaurants around the location. Finally we're going to use the Folium visualization library to visualize results."
   ]
  },
  {
   "cell_type": "markdown",
   "metadata": {},
   "source": [
    "### Explanation of the data to be used."
   ]
  },
  {
   "cell_type": "markdown",
   "metadata": {},
   "source": [
    "From the Foursquare API data source we'll be using data like venues of restaurants nearby in order to conclude where the best location for our restaurant should be. The number of tips in a restaurant and the overall rating of the venue will be the other kinds of data that will be useful to help us make an informed decision of where the Hotel should be."
   ]
  },
  {
   "cell_type": "code",
   "execution_count": null,
   "metadata": {},
   "outputs": [],
   "source": []
  }
 ],
 "metadata": {
  "kernelspec": {
   "display_name": "Python",
   "language": "python",
   "name": "conda-env-python-py"
  },
  "language_info": {
   "codemirror_mode": {
    "name": "ipython",
    "version": 3
   },
   "file_extension": ".py",
   "mimetype": "text/x-python",
   "name": "python",
   "nbconvert_exporter": "python",
   "pygments_lexer": "ipython3",
   "version": "3.6.7"
  }
 },
 "nbformat": 4,
 "nbformat_minor": 4
}
