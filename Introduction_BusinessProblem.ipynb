{
 "cells": [
  {
   "cell_type": "markdown",
   "metadata": {},
   "source": [
    "# Segmenting and exploring venues in Johannesburg neighborhoods"
   ]
  },
  {
   "cell_type": "markdown",
   "metadata": {},
   "source": [
    "## Introduction/Business Problem"
   ]
  },
  {
   "cell_type": "markdown",
   "metadata": {},
   "source": [
    "### Business Problem"
   ]
  },
  {
   "cell_type": "markdown",
   "metadata": {},
   "source": [
    "Where would someone want to open a residential accommodation like a Hotel in the area of Johannesburg? This location is supposed to be close to important amenities like restaurants, gyms, sports clubs and shopping centers. Also, the hotel must be situated where there is high traffic of prospective clients, i.e. in a location with many companies and businesses."
   ]
  },
  {
   "cell_type": "markdown",
   "metadata": {},
   "source": [
    "### Target Audience"
   ]
  },
  {
   "cell_type": "markdown",
   "metadata": {},
   "source": [
    "Prospective entrepreneurs (Hotels) seeking to open businesses in Johannesburg."
   ]
  },
  {
   "cell_type": "markdown",
   "metadata": {},
   "source": [
    "### Reason why they would care about my project"
   ]
  },
  {
   "cell_type": "markdown",
   "metadata": {},
   "source": [
    "When it comes to business location is everything. The success of a business can utterly fail in location A and flourish in location B. So the owners of such prospective businesses will definitely benefit from my project because it will help them locate their business in a location that will be most profitable for them, during all seasons of the year. It will help them know where most of their prospective clients are located, and thus make an informed decision about where their business should be situated."
   ]
  },
  {
   "cell_type": "markdown",
   "metadata": {},
   "source": [
    "### Background discussion"
   ]
  },
  {
   "cell_type": "markdown",
   "metadata": {},
   "source": [
    "A particular overseas business might be interested in opening a Hotel in Johannesburg, South Africa. This project is therefore designed to assist the decision making stakeholders of such a company to understand their target market and location better. This will help them understand how many stars the Hotel must uphold, the specific location of the Hotel, the size of the Hotel and the prices it needs to charge for rooms/apartments so that it can plan for things like, staff, salaries and building maintenance costs.\n",
    "\n",
    "They need to decide if they should buy an already existing franchise which already carries a powerful brand, or if they can risk building their own brand by starting their own Hotel from scratch. Many questions can be answers based on the conclusions that will be drawn from this project."
   ]
  },
  {
   "cell_type": "code",
   "execution_count": null,
   "metadata": {},
   "outputs": [],
   "source": []
  }
 ],
 "metadata": {
  "kernelspec": {
   "display_name": "Python",
   "language": "python",
   "name": "conda-env-python-py"
  },
  "language_info": {
   "codemirror_mode": {
    "name": "ipython",
    "version": 3
   },
   "file_extension": ".py",
   "mimetype": "text/x-python",
   "name": "python",
   "nbconvert_exporter": "python",
   "pygments_lexer": "ipython3",
   "version": "3.6.7"
  }
 },
 "nbformat": 4,
 "nbformat_minor": 4
}
