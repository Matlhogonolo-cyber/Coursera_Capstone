{
 "cells": [
  {
   "cell_type": "markdown",
   "metadata": {},
   "source": [
    "# Segmenting and exploring venues in Johannesburg neighborhoods"
   ]
  },
  {
   "cell_type": "markdown",
   "metadata": {},
   "source": [
    "## Introduction/Business Problem"
   ]
  },
  {
   "cell_type": "markdown",
   "metadata": {},
   "source": [
    "### Business Problem"
   ]
  },
  {
   "cell_type": "markdown",
   "metadata": {},
   "source": [
    "Where would someone want to open a food outlet like a restaurant in the area of Johannesburg? The restaurant must be situated where there is high traffic of prospective clients, i.e. in a location with many companies and businesses. It should also be located where there is the least number of restaurants, and preferably where there no South African restaurants."
   ]
  },
  {
   "cell_type": "markdown",
   "metadata": {},
   "source": [
    "### Target Audience"
   ]
  },
  {
   "cell_type": "markdown",
   "metadata": {},
   "source": [
    "Prospective entrepreneurs seeking to open the restaurant in Johannesburg."
   ]
  },
  {
   "cell_type": "markdown",
   "metadata": {},
   "source": [
    "### Reason why they would care about my project"
   ]
  },
  {
   "cell_type": "markdown",
   "metadata": {},
   "source": [
    "When it comes to business location is everything. The success of a business can utterly fail in location A and flourish in location B. So the owners of such prospective businesses will definitely benefit from my project because it will help them locate their business in a location that will be most profitable for them, during all seasons of the year. It will help them know where most of their prospective clients are located, and thus make an informed decision about where their business should be situated."
   ]
  },
  {
   "cell_type": "markdown",
   "metadata": {},
   "source": [
    "### Background discussion"
   ]
  },
  {
   "cell_type": "markdown",
   "metadata": {},
   "source": [
    "A particular overseas business might be interested in opening a restaurant in Johannesburg, South Africa. This project is therefore designed to assist the decision making stakeholders of such a company to understand their target market and location better. This will help them understand where the specific location should be, the size of the restaurant and the prices it needs to charge for meals depending on competition, so that it can plan for things like, staff, salaries and building maintenance costs.\n",
    "\n",
    "They need to decide if they should buy an already existing franchise which already carries a reputable brand, or if they can risk building their own brand by starting their own restaurant from scratch. Many questions can be answers based on the conclusions that will be drawn from this project."
   ]
  },
  {
   "cell_type": "code",
   "execution_count": null,
   "metadata": {},
   "outputs": [],
   "source": []
  }
 ],
 "metadata": {
  "kernelspec": {
   "display_name": "Python",
   "language": "python",
   "name": "conda-env-python-py"
  },
  "language_info": {
   "codemirror_mode": {
    "name": "ipython",
    "version": 3
   },
   "file_extension": ".py",
   "mimetype": "text/x-python",
   "name": "python",
   "nbconvert_exporter": "python",
   "pygments_lexer": "ipython3",
   "version": "3.6.7"
  }
 },
 "nbformat": 4,
 "nbformat_minor": 4
}
